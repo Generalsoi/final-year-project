{
 "metadata": {
  "language_info": {
   "codemirror_mode": {
    "name": "ipython",
    "version": 3
   },
   "file_extension": ".py",
   "mimetype": "text/x-python",
   "name": "python",
   "nbconvert_exporter": "python",
   "pygments_lexer": "ipython3",
   "version": "3.9.4"
  },
  "orig_nbformat": 4,
  "kernelspec": {
   "name": "python3",
   "display_name": "Python 3.9.4 64-bit"
  },
  "interpreter": {
   "hash": "c569cd2e17f62341e0f08a54f9a867c3c0d3a6f67454072d7de41a8b5dff8343"
  }
 },
 "nbformat": 4,
 "nbformat_minor": 2,
 "cells": [
  {
   "cell_type": "code",
   "execution_count": 1,
   "metadata": {},
   "outputs": [],
   "source": [
    "#necessary dependencies\n",
    "import pandas as pd"
   ]
  },
  {
   "cell_type": "code",
   "execution_count": 2,
   "metadata": {},
   "outputs": [
    {
     "output_type": "execute_result",
     "data": {
      "text/plain": [
       "  DRAINAGE POINT        Date MonthlyOil (bbl)  MonthlyGAS (scf)  \\\n",
       "0  WELL001L-RES1  11/30/1973         18800.81         2966460.0   \n",
       "1  WELL001L-RES1  12/31/1973         11554.73         1765750.0   \n",
       "2  WELL001L-RES1   1/31/1974         14385.23         2507365.0   \n",
       "3  WELL001L-RES1   2/28/1974         19077.57         3884650.0   \n",
       "4  WELL001L-RES1   3/31/1974          21511.8         4379060.0   \n",
       "\n",
       "   MonthlyWATER (bbl)  CONDENSATE (M3)  PROD_DAYS  \n",
       "0               25.16              NaN         30  \n",
       "1               12.58              NaN         31  \n",
       "2               18.87              NaN         31  \n",
       "3               62.90              NaN         28  \n",
       "4                0.00              NaN         31  "
      ],
      "text/html": "<div>\n<style scoped>\n    .dataframe tbody tr th:only-of-type {\n        vertical-align: middle;\n    }\n\n    .dataframe tbody tr th {\n        vertical-align: top;\n    }\n\n    .dataframe thead th {\n        text-align: right;\n    }\n</style>\n<table border=\"1\" class=\"dataframe\">\n  <thead>\n    <tr style=\"text-align: right;\">\n      <th></th>\n      <th>DRAINAGE POINT</th>\n      <th>Date</th>\n      <th>MonthlyOil (bbl)</th>\n      <th>MonthlyGAS (scf)</th>\n      <th>MonthlyWATER (bbl)</th>\n      <th>CONDENSATE (M3)</th>\n      <th>PROD_DAYS</th>\n    </tr>\n  </thead>\n  <tbody>\n    <tr>\n      <th>0</th>\n      <td>WELL001L-RES1</td>\n      <td>11/30/1973</td>\n      <td>18800.81</td>\n      <td>2966460.0</td>\n      <td>25.16</td>\n      <td>NaN</td>\n      <td>30</td>\n    </tr>\n    <tr>\n      <th>1</th>\n      <td>WELL001L-RES1</td>\n      <td>12/31/1973</td>\n      <td>11554.73</td>\n      <td>1765750.0</td>\n      <td>12.58</td>\n      <td>NaN</td>\n      <td>31</td>\n    </tr>\n    <tr>\n      <th>2</th>\n      <td>WELL001L-RES1</td>\n      <td>1/31/1974</td>\n      <td>14385.23</td>\n      <td>2507365.0</td>\n      <td>18.87</td>\n      <td>NaN</td>\n      <td>31</td>\n    </tr>\n    <tr>\n      <th>3</th>\n      <td>WELL001L-RES1</td>\n      <td>2/28/1974</td>\n      <td>19077.57</td>\n      <td>3884650.0</td>\n      <td>62.90</td>\n      <td>NaN</td>\n      <td>28</td>\n    </tr>\n    <tr>\n      <th>4</th>\n      <td>WELL001L-RES1</td>\n      <td>3/31/1974</td>\n      <td>21511.8</td>\n      <td>4379060.0</td>\n      <td>0.00</td>\n      <td>NaN</td>\n      <td>31</td>\n    </tr>\n  </tbody>\n</table>\n</div>"
     },
     "metadata": {},
     "execution_count": 2
    }
   ],
   "source": [
    "#overview of data\n",
    "df = pd.read_csv('For SCL.csv')\n",
    "df.head()"
   ]
  },
  {
   "cell_type": "code",
   "execution_count": 3,
   "metadata": {},
   "outputs": [
    {
     "output_type": "execute_result",
     "data": {
      "text/plain": [
       "3582"
      ]
     },
     "metadata": {},
     "execution_count": 3
    }
   ],
   "source": [
    "len(df)"
   ]
  },
  {
   "cell_type": "code",
   "execution_count": 4,
   "metadata": {},
   "outputs": [
    {
     "output_type": "execute_result",
     "data": {
      "text/plain": [
       "35"
      ]
     },
     "metadata": {},
     "execution_count": 4
    }
   ],
   "source": [
    "len(df['DRAINAGE POINT'].unique())"
   ]
  },
  {
   "cell_type": "code",
   "execution_count": 5,
   "metadata": {},
   "outputs": [
    {
     "output_type": "execute_result",
     "data": {
      "text/plain": [
       "WELL010T-RES6    51\n",
       "Name: DRAINAGE POINT, dtype: int64"
      ]
     },
     "metadata": {},
     "execution_count": 5
    }
   ],
   "source": [
    "#oilwell with missing production data and their count\n",
    "df[df['MonthlyOil (bbl)'].isnull()]['DRAINAGE POINT'].value_counts()"
   ]
  },
  {
   "cell_type": "code",
   "execution_count": 6,
   "metadata": {},
   "outputs": [
    {
     "output_type": "execute_result",
     "data": {
      "text/plain": [
       "34"
      ]
     },
     "metadata": {},
     "execution_count": 6
    }
   ],
   "source": [
    "#exclusing oil wells without historical production data\n",
    "v_oil_wells = list(set(df['DRAINAGE POINT'].unique()) - set(df[df['MonthlyOil (bbl)'].isnull()]['DRAINAGE POINT']))\n",
    "len(v_oil_wells)"
   ]
  },
  {
   "cell_type": "code",
   "execution_count": 17,
   "metadata": {},
   "outputs": [],
   "source": [
    "#oil wells with more than 100 recorded historical entry\n",
    "dict_ = {}\n",
    "for i in v_oil_wells:\n",
    "    if len(df[df['DRAINAGE POINT'] == i]) > 100:\n",
    "        dict_[i] = len(df[df['DRAINAGE POINT'] == i])"
   ]
  },
  {
   "cell_type": "code",
   "execution_count": 19,
   "metadata": {},
   "outputs": [
    {
     "output_type": "execute_result",
     "data": {
      "text/plain": [
       "{'WELL008S-RES5': 185,\n",
       " 'WELL014L-RES2': 110,\n",
       " 'WELL005L-RES2': 189,\n",
       " 'WELL008L-RES2': 185,\n",
       " 'WELL003L-RES2': 149,\n",
       " 'WELL001S-RES3': 186,\n",
       " 'WELL004S-RES5': 116,\n",
       " 'WELL014S-RES4': 110,\n",
       " 'WELL003S-RES4': 208,\n",
       " 'WELL004L-RES6': 167,\n",
       " 'WELL009L-RES2': 108,\n",
       " 'WELL005S-RES4': 189,\n",
       " 'WELL001L-RES1': 236}"
      ]
     },
     "metadata": {},
     "execution_count": 19
    }
   ],
   "source": [
    "dict_"
   ]
  },
  {
   "cell_type": "code",
   "execution_count": 27,
   "metadata": {},
   "outputs": [],
   "source": [
    "# df[df['DRAINAGE POINT'] == 'WELL008S-RES5']['MonthlyOil (bbl)'].value_counts() #== 0"
   ]
  },
  {
   "cell_type": "code",
   "execution_count": 28,
   "metadata": {},
   "outputs": [],
   "source": [
    "# new_d = {}\n",
    "# for i in dict_:\n",
    "#     new_d[i] = len(df[df[df['DRAINAGE POINT'] == i]['MonthlyOil (bbl)'] == 0])"
   ]
  },
  {
   "cell_type": "code",
   "execution_count": 32,
   "metadata": {},
   "outputs": [],
   "source": [
    "writer = pd.ExcelWriter('oil_wells.xlsx')\n",
    "\n",
    "for i in dict_:\n",
    "    df[df['DRAINAGE POINT'] == i].to_excel(writer, sheet_name = i, index=False)\n",
    "\n",
    "writer.save()"
   ]
  },
  {
   "cell_type": "code",
   "execution_count": 73,
   "metadata": {},
   "outputs": [],
   "source": [
    "#new dataframe excluding records with erroneous volumes\n",
    "new_df = df[df['MonthlyOil (bbl)'] != '-']"
   ]
  },
  {
   "cell_type": "code",
   "execution_count": 76,
   "metadata": {},
   "outputs": [
    {
     "output_type": "stream",
     "name": "stderr",
     "text": [
      "<ipython-input-76-0f26c7d05439>:1: SettingWithCopyWarning: \nA value is trying to be set on a copy of a slice from a DataFrame.\nTry using .loc[row_indexer,col_indexer] = value instead\n\nSee the caveats in the documentation: https://pandas.pydata.org/pandas-docs/stable/user_guide/indexing.html#returning-a-view-versus-a-copy\n  new_df['MonthlyOil (bbl)'] = pd.to_numeric(new_df['MonthlyOil (bbl)'])\n"
     ]
    },
    {
     "output_type": "execute_result",
     "data": {
      "text/plain": [
       "dtype('float64')"
      ]
     },
     "metadata": {},
     "execution_count": 76
    }
   ],
   "source": [
    "#converting the volume of oil column to numeric data type\n",
    "new_df['MonthlyOil (bbl)'] = pd.to_numeric(new_df['MonthlyOil (bbl)'])\n",
    "new_df['MonthlyOil (bbl)'].dtype"
   ]
  },
  {
   "cell_type": "code",
   "execution_count": 80,
   "metadata": {},
   "outputs": [
    {
     "output_type": "stream",
     "name": "stderr",
     "text": [
      "<ipython-input-80-49801e84db20>:1: SettingWithCopyWarning: \nA value is trying to be set on a copy of a slice from a DataFrame.\nTry using .loc[row_indexer,col_indexer] = value instead\n\nSee the caveats in the documentation: https://pandas.pydata.org/pandas-docs/stable/user_guide/indexing.html#returning-a-view-versus-a-copy\n  new_df['Date'] = pd.to_datetime(new_df['Date'], format='%m/%d/%Y', errors='coerce')\n"
     ]
    }
   ],
   "source": [
    "#parsing the correct format to the date column\n",
    "new_df['Date'] = pd.to_datetime(new_df['Date'], format='%m/%d/%Y', errors='coerce')\n",
    "\n",
    "#grouping oil wells by production date and droping the 'PROD_DAYS' and 'CONDENSATE (M3)' columns \n",
    "df_grouped_date = new_df.groupby(by='Date',as_index=False).sum().drop(columns=['PROD_DAYS','CONDENSATE (M3)'])"
   ]
  },
  {
   "cell_type": "code",
   "execution_count": 82,
   "metadata": {},
   "outputs": [],
   "source": [
    "#sort data by date column\n",
    "final_df = df_grouped_date.sort_values(by='Date')"
   ]
  },
  {
   "cell_type": "code",
   "execution_count": 83,
   "metadata": {},
   "outputs": [
    {
     "output_type": "execute_result",
     "data": {
      "text/plain": [
       "236"
      ]
     },
     "metadata": {},
     "execution_count": 83
    }
   ],
   "source": [
    "len(final_df)"
   ]
  },
  {
   "cell_type": "code",
   "execution_count": 84,
   "metadata": {},
   "outputs": [],
   "source": [
    "#export data to be fed into automl\n",
    "final_df.to_csv('oil_data.csv')"
   ]
  },
  {
   "cell_type": "code",
   "execution_count": null,
   "metadata": {},
   "outputs": [],
   "source": []
  },
  {
   "cell_type": "code",
   "execution_count": null,
   "metadata": {},
   "outputs": [],
   "source": []
  },
  {
   "cell_type": "code",
   "execution_count": null,
   "metadata": {},
   "outputs": [],
   "source": []
  },
  {
   "cell_type": "code",
   "execution_count": null,
   "metadata": {},
   "outputs": [],
   "source": []
  },
  {
   "cell_type": "code",
   "execution_count": null,
   "metadata": {},
   "outputs": [],
   "source": []
  },
  {
   "cell_type": "code",
   "execution_count": null,
   "metadata": {},
   "outputs": [],
   "source": []
  },
  {
   "cell_type": "code",
   "execution_count": null,
   "metadata": {},
   "outputs": [],
   "source": []
  },
  {
   "cell_type": "code",
   "execution_count": null,
   "metadata": {},
   "outputs": [],
   "source": [
    "\n"
   ]
  }
 ]
}