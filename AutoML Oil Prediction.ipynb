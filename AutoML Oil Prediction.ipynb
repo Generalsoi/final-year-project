{
 "cells": [
  {
   "cell_type": "code",
   "execution_count": 10,
   "id": "a0d51ea4",
   "metadata": {},
   "outputs": [],
   "source": [
    "import logging\n",
    "\n",
    "from sklearn.metrics import mean_absolute_error, mean_squared_error, r2_score\n",
    "from matplotlib import pyplot as plt\n",
    "import pandas as pd\n",
    "import numpy as np\n",
    "import warnings\n",
    "import os\n",
    "\n",
    "# Squash warning messages for cleaner output in the notebook\n",
    "warnings.showwarning = lambda *args, **kwargs: None\n",
    "\n",
    "import azureml.core\n",
    "from azureml.core import Experiment, Workspace, Dataset\n",
    "from azureml.train.automl import AutoMLConfig\n",
    "from datetime import datetime"
   ]
  },
  {
   "cell_type": "code",
   "execution_count": 11,
   "id": "2813cebf",
   "metadata": {},
   "outputs": [
    {
     "name": "stdout",
     "output_type": "stream",
     "text": [
      "Workspace name: knowledge-session\n",
      "Azure region: eastus2\n",
      "Subscription id: cdb9c206-0977-4fc2-9190-23ed6c7c7063\n",
      "Resource group: Stanbic\n"
     ]
    }
   ],
   "source": [
    "ws = Workspace.from_config()\n",
    "\n",
    "# choose a name for experiment\n",
    "experiment_name = 'oil_prediction'\n",
    "\n",
    "experiment=Experiment(ws, experiment_name)\n",
    "\n",
    "print('Workspace name: ' + ws.name, \n",
    "      'Azure region: ' + ws.location, \n",
    "      'Subscription id: ' + ws.subscription_id, \n",
    "      'Resource group: ' + ws.resource_group, sep = '\\n')\n",
    "\n",
    "run = experiment.start_logging()"
   ]
  },
  {
   "cell_type": "code",
   "execution_count": 12,
   "id": "61fbbab6",
   "metadata": {},
   "outputs": [
    {
     "data": {
      "text/html": [
       "<div>\n",
       "<style scoped>\n",
       "    .dataframe tbody tr th:only-of-type {\n",
       "        vertical-align: middle;\n",
       "    }\n",
       "\n",
       "    .dataframe tbody tr th {\n",
       "        vertical-align: top;\n",
       "    }\n",
       "\n",
       "    .dataframe thead th {\n",
       "        text-align: right;\n",
       "    }\n",
       "</style>\n",
       "<table border=\"1\" class=\"dataframe\">\n",
       "  <thead>\n",
       "    <tr style=\"text-align: right;\">\n",
       "      <th></th>\n",
       "      <th></th>\n",
       "    </tr>\n",
       "  </thead>\n",
       "  <tbody>\n",
       "    <tr>\n",
       "      <th>Subscription ID</th>\n",
       "      <td>cdb9c206-0977-4fc2-9190-23ed6c7c7063</td>\n",
       "    </tr>\n",
       "    <tr>\n",
       "      <th>Workspace</th>\n",
       "      <td>knowledge-session</td>\n",
       "    </tr>\n",
       "    <tr>\n",
       "      <th>Resource Group</th>\n",
       "      <td>Stanbic</td>\n",
       "    </tr>\n",
       "    <tr>\n",
       "      <th>Location</th>\n",
       "      <td>eastus2</td>\n",
       "    </tr>\n",
       "    <tr>\n",
       "      <th>Run History Name</th>\n",
       "      <td>oil_prediction</td>\n",
       "    </tr>\n",
       "  </tbody>\n",
       "</table>\n",
       "</div>"
      ],
      "text/plain": [
       "                                                      \n",
       "Subscription ID   cdb9c206-0977-4fc2-9190-23ed6c7c7063\n",
       "Workspace         knowledge-session                   \n",
       "Resource Group    Stanbic                             \n",
       "Location          eastus2                             \n",
       "Run History Name  oil_prediction                      "
      ]
     },
     "execution_count": 12,
     "metadata": {},
     "output_type": "execute_result"
    }
   ],
   "source": [
    "ws = Workspace.from_config()\n",
    "\n",
    "# choose a name for the run history container in the workspace\n",
    "experiment_name = 'oil_prediction'\n",
    "\n",
    "# # project folder\n",
    "# project_folder = './sample_projects/automl-forecasting-energy-demand'\n",
    "\n",
    "experiment = Experiment(ws, experiment_name)\n",
    "\n",
    "output = {}\n",
    "output['Subscription ID'] = ws.subscription_id\n",
    "output['Workspace'] = ws.name\n",
    "output['Resource Group'] = ws.resource_group\n",
    "output['Location'] = ws.location\n",
    "output['Run History Name'] = experiment_name\n",
    "pd.set_option('display.max_colwidth', -1)\n",
    "outputDf = pd.DataFrame(data = output, index = [''])\n",
    "outputDf.T"
   ]
  },
  {
   "cell_type": "code",
   "execution_count": 13,
   "id": "1053f8cb",
   "metadata": {},
   "outputs": [
    {
     "name": "stdout",
     "output_type": "stream",
     "text": [
      "Found existing cluster, use it.\n",
      "\n",
      "Running\n"
     ]
    }
   ],
   "source": [
    "from azureml.core.compute import ComputeTarget, AmlCompute\n",
    "from azureml.core.compute_target import ComputeTargetException\n",
    "\n",
    "# Choose a name for your cluster.\n",
    "amlcompute_cluster_name = 'forecast-compute'\n",
    "\n",
    "# Verify that cluster does not exist already\n",
    "try:\n",
    "    compute_target = ComputeTarget(workspace=ws, name=amlcompute_cluster_name)\n",
    "    print('Found existing cluster, use it.')\n",
    "except ComputeTargetException:\n",
    "    compute_config = AmlCompute.provisioning_configuration(vm_size='STANDARD_DS12_V2',\n",
    "                                                           max_nodes=6)\n",
    "    compute_target = ComputeTarget.create(ws, amlcompute_cluster_name, compute_config)\n",
    "\n",
    "compute_target.wait_for_completion(show_output=True)"
   ]
  },
  {
   "cell_type": "code",
   "execution_count": 14,
   "id": "2747b517",
   "metadata": {},
   "outputs": [],
   "source": [
    "target_column_name = 'MonthlyOil (bbl)'\n",
    "time_column_name = 'Date'"
   ]
  },
  {
   "cell_type": "code",
   "execution_count": 17,
   "id": "8ca39476",
   "metadata": {},
   "outputs": [
    {
     "data": {
      "text/html": [
       "<div>\n",
       "<style scoped>\n",
       "    .dataframe tbody tr th:only-of-type {\n",
       "        vertical-align: middle;\n",
       "    }\n",
       "\n",
       "    .dataframe tbody tr th {\n",
       "        vertical-align: top;\n",
       "    }\n",
       "\n",
       "    .dataframe thead th {\n",
       "        text-align: right;\n",
       "    }\n",
       "</style>\n",
       "<table border=\"1\" class=\"dataframe\">\n",
       "  <thead>\n",
       "    <tr style=\"text-align: right;\">\n",
       "      <th></th>\n",
       "      <th>Date</th>\n",
       "      <th>MonthlyOil (bbl)</th>\n",
       "      <th>MonthlyGAS (scf)</th>\n",
       "      <th>MonthlyWATER (bbl)</th>\n",
       "    </tr>\n",
       "  </thead>\n",
       "  <tbody>\n",
       "    <tr>\n",
       "      <th>0</th>\n",
       "      <td>1973-11-30</td>\n",
       "      <td>152613.87</td>\n",
       "      <td>19988290.00</td>\n",
       "      <td>396.27</td>\n",
       "    </tr>\n",
       "    <tr>\n",
       "      <th>1</th>\n",
       "      <td>1973-12-31</td>\n",
       "      <td>125818.61</td>\n",
       "      <td>15362025.00</td>\n",
       "      <td>1492.28</td>\n",
       "    </tr>\n",
       "    <tr>\n",
       "      <th>2</th>\n",
       "      <td>1974-01-31</td>\n",
       "      <td>124302.96</td>\n",
       "      <td>18116595.00</td>\n",
       "      <td>2632.49</td>\n",
       "    </tr>\n",
       "    <tr>\n",
       "      <th>3</th>\n",
       "      <td>1974-02-28</td>\n",
       "      <td>125497.97</td>\n",
       "      <td>18257855.00</td>\n",
       "      <td>5378.16</td>\n",
       "    </tr>\n",
       "    <tr>\n",
       "      <th>4</th>\n",
       "      <td>1974-03-31</td>\n",
       "      <td>142682.13</td>\n",
       "      <td>20376755.00</td>\n",
       "      <td>4597.57</td>\n",
       "    </tr>\n",
       "  </tbody>\n",
       "</table>\n",
       "</div>"
      ],
      "text/plain": [
       "        Date  MonthlyOil (bbl)  MonthlyGAS (scf)  MonthlyWATER (bbl)\n",
       "0 1973-11-30 152613.87         19988290.00       396.27             \n",
       "1 1973-12-31 125818.61         15362025.00       1492.28            \n",
       "2 1974-01-31 124302.96         18116595.00       2632.49            \n",
       "3 1974-02-28 125497.97         18257855.00       5378.16            \n",
       "4 1974-03-31 142682.13         20376755.00       4597.57            "
      ]
     },
     "execution_count": 17,
     "metadata": {},
     "output_type": "execute_result"
    }
   ],
   "source": [
    "dataset = Dataset.Tabular.from_delimited_files(path = \"https://github.com/ChidiNdego/final-year-project/raw/main/oil_data.csv\").with_timestamp_columns(fine_grain_timestamp=time_column_name) \n",
    "dataset.take(5).to_pandas_dataframe().drop(columns='Column1').reset_index(drop=True)"
   ]
  },
  {
   "cell_type": "code",
   "execution_count": 21,
   "id": "7d907ceb",
   "metadata": {},
   "outputs": [
    {
     "data": {
      "text/html": [
       "<div>\n",
       "<style scoped>\n",
       "    .dataframe tbody tr th:only-of-type {\n",
       "        vertical-align: middle;\n",
       "    }\n",
       "\n",
       "    .dataframe tbody tr th {\n",
       "        vertical-align: top;\n",
       "    }\n",
       "\n",
       "    .dataframe thead th {\n",
       "        text-align: right;\n",
       "    }\n",
       "</style>\n",
       "<table border=\"1\" class=\"dataframe\">\n",
       "  <thead>\n",
       "    <tr style=\"text-align: right;\">\n",
       "      <th></th>\n",
       "      <th>Date</th>\n",
       "      <th>MonthlyOil (bbl)</th>\n",
       "      <th>MonthlyGAS (scf)</th>\n",
       "      <th>MonthlyWATER (bbl)</th>\n",
       "    </tr>\n",
       "  </thead>\n",
       "  <tbody>\n",
       "    <tr>\n",
       "      <th>153</th>\n",
       "      <td>1986-08-31</td>\n",
       "      <td>97268.56</td>\n",
       "      <td>12854660.00</td>\n",
       "      <td>268884.92</td>\n",
       "    </tr>\n",
       "    <tr>\n",
       "      <th>154</th>\n",
       "      <td>1986-09-30</td>\n",
       "      <td>66145.64</td>\n",
       "      <td>7804615.00</td>\n",
       "      <td>193260.25</td>\n",
       "    </tr>\n",
       "    <tr>\n",
       "      <th>155</th>\n",
       "      <td>1986-10-31</td>\n",
       "      <td>64906.51</td>\n",
       "      <td>9676310.00</td>\n",
       "      <td>131052.15</td>\n",
       "    </tr>\n",
       "    <tr>\n",
       "      <th>156</th>\n",
       "      <td>1986-11-30</td>\n",
       "      <td>42847.48</td>\n",
       "      <td>7486780.00</td>\n",
       "      <td>65214.72</td>\n",
       "    </tr>\n",
       "    <tr>\n",
       "      <th>157</th>\n",
       "      <td>1986-12-31</td>\n",
       "      <td>33318.13</td>\n",
       "      <td>4732210.00</td>\n",
       "      <td>58905.85</td>\n",
       "    </tr>\n",
       "  </tbody>\n",
       "</table>\n",
       "</div>"
      ],
      "text/plain": [
       "          Date  MonthlyOil (bbl)  MonthlyGAS (scf)  MonthlyWATER (bbl)\n",
       "153 1986-08-31 97268.56          12854660.00       268884.92          \n",
       "154 1986-09-30 66145.64          7804615.00        193260.25          \n",
       "155 1986-10-31 64906.51          9676310.00        131052.15          \n",
       "156 1986-11-30 42847.48          7486780.00        65214.72           \n",
       "157 1986-12-31 33318.13          4732210.00        58905.85           "
      ]
     },
     "execution_count": 21,
     "metadata": {},
     "output_type": "execute_result"
    }
   ],
   "source": [
    "train = dataset.time_before(datetime(1987, 1, 1), include_boundary=True)\n",
    "train.to_pandas_dataframe().drop(columns='Column1').reset_index(drop=True).sort_values(time_column_name).tail(5)"
   ]
  },
  {
   "cell_type": "code",
   "execution_count": 23,
   "id": "39f3a938",
   "metadata": {},
   "outputs": [
    {
     "data": {
      "text/html": [
       "<div>\n",
       "<style scoped>\n",
       "    .dataframe tbody tr th:only-of-type {\n",
       "        vertical-align: middle;\n",
       "    }\n",
       "\n",
       "    .dataframe tbody tr th {\n",
       "        vertical-align: top;\n",
       "    }\n",
       "\n",
       "    .dataframe thead th {\n",
       "        text-align: right;\n",
       "    }\n",
       "</style>\n",
       "<table border=\"1\" class=\"dataframe\">\n",
       "  <thead>\n",
       "    <tr style=\"text-align: right;\">\n",
       "      <th></th>\n",
       "      <th>Date</th>\n",
       "      <th>MonthlyOil (bbl)</th>\n",
       "      <th>MonthlyGAS (scf)</th>\n",
       "      <th>MonthlyWATER (bbl)</th>\n",
       "    </tr>\n",
       "  </thead>\n",
       "  <tbody>\n",
       "    <tr>\n",
       "      <th>0</th>\n",
       "      <td>1987-02-28</td>\n",
       "      <td>30619.72</td>\n",
       "      <td>3849335.00</td>\n",
       "      <td>58163.63</td>\n",
       "    </tr>\n",
       "    <tr>\n",
       "      <th>1</th>\n",
       "      <td>1987-03-31</td>\n",
       "      <td>49112.32</td>\n",
       "      <td>6745165.00</td>\n",
       "      <td>176969.15</td>\n",
       "    </tr>\n",
       "    <tr>\n",
       "      <th>2</th>\n",
       "      <td>1987-04-30</td>\n",
       "      <td>47590.14</td>\n",
       "      <td>3143035.00</td>\n",
       "      <td>103627.75</td>\n",
       "    </tr>\n",
       "    <tr>\n",
       "      <th>3</th>\n",
       "      <td>1987-05-31</td>\n",
       "      <td>65340.52</td>\n",
       "      <td>8864065.00</td>\n",
       "      <td>141367.75</td>\n",
       "    </tr>\n",
       "    <tr>\n",
       "      <th>4</th>\n",
       "      <td>1987-06-30</td>\n",
       "      <td>82921.07</td>\n",
       "      <td>4273115.00</td>\n",
       "      <td>214400.94</td>\n",
       "    </tr>\n",
       "  </tbody>\n",
       "</table>\n",
       "</div>"
      ],
      "text/plain": [
       "        Date  MonthlyOil (bbl)  MonthlyGAS (scf)  MonthlyWATER (bbl)\n",
       "0 1987-02-28 30619.72          3849335.00        58163.63           \n",
       "1 1987-03-31 49112.32          6745165.00        176969.15          \n",
       "2 1987-04-30 47590.14          3143035.00        103627.75          \n",
       "3 1987-05-31 65340.52          8864065.00        141367.75          \n",
       "4 1987-06-30 82921.07          4273115.00        214400.94          "
      ]
     },
     "execution_count": 23,
     "metadata": {},
     "output_type": "execute_result"
    }
   ],
   "source": [
    "# split into test based on time\n",
    "test = dataset.time_between(datetime(1987, 2, 1), datetime(1994, 4, 1))\n",
    "test.to_pandas_dataframe().drop(columns='Column1').reset_index(drop=True).head(5)"
   ]
  },
  {
   "cell_type": "code",
   "execution_count": 24,
   "id": "26c14198",
   "metadata": {},
   "outputs": [],
   "source": [
    "forecast_horizon = 24"
   ]
  },
  {
   "cell_type": "code",
   "execution_count": 25,
   "id": "360e0cb3",
   "metadata": {},
   "outputs": [],
   "source": [
    "from azureml.automl.core.forecasting_parameters import ForecastingParameters\n",
    "forecasting_parameters = ForecastingParameters(\n",
    "    time_column_name=time_column_name,\n",
    "    forecast_horizon=forecast_horizon,\n",
    "    freq='D', # Set the forecast frequency to be hourly\n",
    "    short_series_handling = True\n",
    ")\n",
    "\n",
    "automl_config = AutoMLConfig(task='forecasting',                             \n",
    "                             primary_metric='normalized_root_mean_squared_error',\n",
    "                             #blocked_models = ['ExtremeRandomTrees', 'AutoArima', 'Prophet'],                             \n",
    "                             experiment_timeout_hours=0.3,\n",
    "                             training_data=train,\n",
    "                             label_column_name=target_column_name,\n",
    "                             compute_target=compute_target,\n",
    "                             enable_early_stopping=True,\n",
    "                             n_cross_validations=3,                             \n",
    "                             verbosity=logging.INFO,\n",
    "                             forecasting_parameters=forecasting_parameters)"
   ]
  },
  {
   "cell_type": "code",
   "execution_count": 26,
   "id": "bd0601d5",
   "metadata": {},
   "outputs": [
    {
     "name": "stdout",
     "output_type": "stream",
     "text": [
      "Submitting remote run.\n",
      "No run_configuration provided, running on forecast-compute with default configuration\n",
      "Running on remote compute: forecast-compute\n"
     ]
    },
    {
     "data": {
      "text/html": [
       "<table style=\"width:100%\"><tr><th>Experiment</th><th>Id</th><th>Type</th><th>Status</th><th>Details Page</th><th>Docs Page</th></tr><tr><td>oil_prediction</td><td>AutoML_6bacc556-4f44-4c9c-bce2-22e37f1d21f5</td><td>automl</td><td>NotStarted</td><td><a href=\"https://ml.azure.com/runs/AutoML_6bacc556-4f44-4c9c-bce2-22e37f1d21f5?wsid=/subscriptions/cdb9c206-0977-4fc2-9190-23ed6c7c7063/resourcegroups/Stanbic/workspaces/knowledge-session&amp;tid=7369e6ec-faa6-42fa-bc0e-4f332da5b1db\" target=\"_blank\" rel=\"noopener\">Link to Azure Machine Learning studio</a></td><td><a href=\"https://docs.microsoft.com/en-us/python/api/overview/azure/ml/intro?view=azure-ml-py\" target=\"_blank\" rel=\"noopener\">Link to Documentation</a></td></tr></table>"
      ],
      "text/plain": [
       "<IPython.core.display.HTML object>"
      ]
     },
     "metadata": {},
     "output_type": "display_data"
    },
    {
     "name": "stdout",
     "output_type": "stream",
     "text": [
      "\n",
      "Current status: DatasetFeaturizationCompleted. Completed featurizing the CV split.\n",
      "Current status: ModelSelection. Beginning model selection.\n",
      "\n",
      "****************************************************************************************************\n",
      "DATA GUARDRAILS: \n",
      "\n",
      "TYPE:         Short series handling\n",
      "STATUS:       PASSED\n",
      "DESCRIPTION:  Automated ML detected enough data points for each series in the input data to continue with training.\n",
      "              \n",
      "\n",
      "****************************************************************************************************\n",
      "\n",
      "TYPE:         Frequency detection\n",
      "STATUS:       PASSED\n",
      "DESCRIPTION:  The time series was analyzed, all data points are aligned with detected frequency.\n",
      "              \n",
      "\n",
      "****************************************************************************************************\n",
      "\n",
      "TYPE:         Missing feature values imputation\n",
      "STATUS:       PASSED\n",
      "DESCRIPTION:  No feature missing values were detected in the training data.\n",
      "              Learn more about missing value imputation: https://aka.ms/AutomatedMLFeaturization\n",
      "\n",
      "****************************************************************************************************\n",
      "\n",
      "****************************************************************************************************\n",
      "ITERATION: The iteration being evaluated.\n",
      "PIPELINE: A summary description of the pipeline being evaluated.\n",
      "DURATION: Time taken for the current iteration.\n",
      "METRIC: The result of computing score on the fitted pipeline.\n",
      "BEST: The best observed score thus far.\n",
      "****************************************************************************************************\n",
      "\n",
      " ITERATION   PIPELINE                                       DURATION      METRIC      BEST\n",
      "         0    AutoArima                                     0:00:42       0.2328    0.2328\n",
      "         1    ProphetModel                                  0:02:27       0.2350    0.2328\n",
      "         2    Naive                                         0:00:36       0.2441    0.2328\n",
      "         3    SeasonalNaive                                 0:02:20       0.2551    0.2328\n",
      "         4    Average                                       0:00:39       0.1613    0.1613\n",
      "         5    SeasonalAverage                               0:02:24       0.2300    0.1613\n",
      "         6    ExponentialSmoothing                          0:01:06       0.2441    0.1613\n",
      "         7   RobustScaler LassoLars                         0:02:20       0.2316    0.1613\n",
      "         8   RobustScaler DecisionTree                      0:00:35       0.1654    0.1613\n",
      "         9   StandardScalerWrapper DecisionTree             0:02:27       0.1651    0.1613\n",
      "        10   RobustScaler DecisionTree                      0:00:36       0.1682    0.1613\n",
      "        11    VotingEnsemble                                0:02:25       0.1488    0.1488\n"
     ]
    }
   ],
   "source": [
    "remote_run = experiment.submit(automl_config, show_output=True)"
   ]
  },
  {
   "cell_type": "code",
   "execution_count": 27,
   "id": "9acf23a7",
   "metadata": {},
   "outputs": [
    {
     "data": {
      "text/plain": [
       "{'runId': 'AutoML_6bacc556-4f44-4c9c-bce2-22e37f1d21f5',\n",
       " 'target': 'forecast-compute',\n",
       " 'status': 'Completed',\n",
       " 'startTimeUtc': '2021-07-10T22:08:46.800308Z',\n",
       " 'endTimeUtc': '2021-07-10T22:32:42.180607Z',\n",
       " 'properties': {'num_iterations': '1000',\n",
       "  'training_type': 'TrainFull',\n",
       "  'acquisition_function': 'EI',\n",
       "  'primary_metric': 'normalized_root_mean_squared_error',\n",
       "  'train_split': '0',\n",
       "  'acquisition_parameter': '0',\n",
       "  'num_cross_validation': '3',\n",
       "  'target': 'forecast-compute',\n",
       "  'AMLSettingsJsonString': '{\"path\":null,\"name\":\"oil_prediction\",\"subscription_id\":\"cdb9c206-0977-4fc2-9190-23ed6c7c7063\",\"resource_group\":\"Stanbic\",\"workspace_name\":\"knowledge-session\",\"region\":\"eastus2\",\"compute_target\":\"forecast-compute\",\"spark_service\":null,\"azure_service\":\"remote\",\"many_models\":false,\"pipeline_fetch_max_batch_size\":1,\"enable_batch_run\":false,\"enable_run_restructure\":false,\"start_auxiliary_runs_before_parent_complete\":false,\"enable_code_generation\":false,\"iterations\":1000,\"primary_metric\":\"normalized_root_mean_squared_error\",\"task_type\":\"regression\",\"data_script\":null,\"test_size\":0.0,\"validation_size\":0.0,\"n_cross_validations\":3,\"y_min\":null,\"y_max\":null,\"num_classes\":null,\"featurization\":\"auto\",\"_ignore_package_version_incompatibilities\":false,\"is_timeseries\":true,\"max_cores_per_iteration\":1,\"max_concurrent_iterations\":1,\"iteration_timeout_minutes\":null,\"mem_in_mb\":null,\"enforce_time_on_windows\":false,\"experiment_timeout_minutes\":18,\"experiment_exit_score\":null,\"whitelist_models\":null,\"blacklist_algos\":[\"TensorFlowDNN\",\"TensorFlowLinearRegressor\",\"Arimax\"],\"supported_models\":[\"LassoLars\",\"AutoArima\",\"Prophet\",\"GradientBoosting\",\"ExtremeRandomTrees\",\"TCNForecaster\",\"ExponentialSmoothing\",\"Average\",\"Naive\",\"RandomForest\",\"ElasticNet\",\"TensorFlowLinearRegressor\",\"Arimax\",\"TensorFlowDNN\",\"SeasonalAverage\",\"SGD\",\"DecisionTree\",\"KNN\",\"SeasonalNaive\",\"XGBoostRegressor\",\"LightGBM\"],\"private_models\":[],\"auto_blacklist\":true,\"blacklist_samples_reached\":false,\"exclude_nan_labels\":true,\"verbosity\":20,\"_debug_log\":\"azureml_automl.log\",\"show_warnings\":false,\"model_explainability\":true,\"service_url\":null,\"sdk_url\":null,\"sdk_packages\":null,\"enable_onnx_compatible_models\":false,\"enable_split_onnx_featurizer_estimator_models\":false,\"vm_type\":\"STANDARD_DS3_V2\",\"telemetry_verbosity\":20,\"send_telemetry\":true,\"enable_dnn\":false,\"scenario\":\"SDK-1.13.0\",\"environment_label\":null,\"save_mlflow\":false,\"force_text_dnn\":false,\"enable_feature_sweeping\":false,\"time_column_name\":\"Date\",\"grain_column_names\":null,\"drop_column_names\":[],\"max_horizon\":24,\"dropna\":false,\"overwrite_columns\":true,\"transform_dictionary\":{\"min\":\"_automl_target_col\",\"max\":\"_automl_target_col\",\"mean\":\"_automl_target_col\"},\"window_size\":null,\"country_or_region\":null,\"lags\":null,\"feature_lags\":null,\"seasonality\":\"auto\",\"use_stl\":null,\"short_series_handling\":true,\"freq\":\"D\",\"short_series_handling_configuration\":\"auto\",\"target_aggregation_function\":null,\"enable_early_stopping\":true,\"early_stopping_n_iters\":10,\"metrics\":null,\"enable_metric_confidence\":false,\"enable_ensembling\":true,\"enable_stack_ensembling\":false,\"ensemble_iterations\":15,\"enable_tf\":false,\"enable_subsampling\":false,\"subsample_seed\":null,\"enable_nimbusml\":false,\"enable_streaming\":false,\"force_streaming\":false,\"track_child_runs\":true,\"allowed_private_models\":[],\"label_column_name\":\"MonthlyOil (bbl)\",\"weight_column_name\":null,\"cv_split_column_names\":null,\"enable_local_managed\":false,\"_local_managed_run_id\":null,\"cost_mode\":1,\"lag_length\":0,\"metric_operation\":\"minimize\",\"preprocess\":true}',\n",
       "  'DataPrepJsonString': '{\\\\\"training_data\\\\\": {\\\\\"datasetId\\\\\": \\\\\"937b718b-a8d2-477d-8f7a-c1bdfc8ffb8f\\\\\"}, \\\\\"datasets\\\\\": 0}',\n",
       "  'EnableSubsampling': 'False',\n",
       "  'runTemplate': 'AutoML',\n",
       "  'azureml.runsource': 'automl',\n",
       "  'display_task_type': 'forecasting',\n",
       "  'dependencies_versions': '{\"azureml-widgets\": \"1.31.0\", \"azureml-train\": \"1.31.0\", \"azureml-train-restclients-hyperdrive\": \"1.31.0\", \"azureml-train-core\": \"1.31.0\", \"azureml-train-automl\": \"1.31.0\", \"azureml-train-automl-runtime\": \"1.31.0\", \"azureml-train-automl-client\": \"1.31.0\", \"azureml-tensorboard\": \"1.31.0\", \"azureml-telemetry\": \"1.31.0\", \"azureml-sdk\": \"1.31.0\", \"azureml-samples\": \"0+unknown\", \"azureml-responsibleai\": \"1.31.0\", \"azureml-pipeline\": \"1.31.0\", \"azureml-pipeline-steps\": \"1.31.0\", \"azureml-pipeline-core\": \"1.31.0\", \"azureml-opendatasets\": \"1.31.0\", \"azureml-model-management-sdk\": \"1.0.1b6.post1\", \"azureml-mlflow\": \"1.31.0\", \"azureml-interpret\": \"1.31.0\", \"azureml-explain-model\": \"1.31.0\", \"azureml-defaults\": \"1.31.0\", \"azureml-dataset-runtime\": \"1.31.0\", \"azureml-dataprep\": \"2.18.0\", \"azureml-dataprep-rslex\": \"1.16.1\", \"azureml-dataprep-native\": \"36.0.0\", \"azureml-datadrift\": \"1.31.0\", \"azureml-core\": \"1.31.0\", \"azureml-contrib-services\": \"1.31.0\", \"azureml-contrib-server\": \"1.31.0\", \"azureml-contrib-reinforcementlearning\": \"1.31.0\", \"azureml-contrib-pipeline-steps\": \"1.31.0\", \"azureml-contrib-notebook\": \"1.31.0\", \"azureml-contrib-fairness\": \"1.31.0\", \"azureml-contrib-dataset\": \"1.31.0\", \"azureml-cli-common\": \"1.31.0\", \"azureml-automl-runtime\": \"1.31.0\", \"azureml-automl-dnn-nlp\": \"1.31.0\", \"azureml-automl-core\": \"1.31.0\", \"azureml-accel-models\": \"1.31.0\"}',\n",
       "  '_aml_system_scenario_identification': 'Remote.Parent',\n",
       "  'ClientType': 'SDK',\n",
       "  'environment_cpu_name': 'AzureML-AutoML',\n",
       "  'environment_cpu_label': 'prod',\n",
       "  'environment_gpu_name': 'AzureML-AutoML-GPU',\n",
       "  'environment_gpu_label': 'prod',\n",
       "  'root_attribution': 'automl',\n",
       "  'attribution': 'AutoML',\n",
       "  'Orchestrator': 'AutoML',\n",
       "  'CancelUri': 'https://eastus2.api.azureml.ms/jasmine/v1.0/subscriptions/cdb9c206-0977-4fc2-9190-23ed6c7c7063/resourceGroups/Stanbic/providers/Microsoft.MachineLearningServices/workspaces/knowledge-session/experimentids/ebe6025d-c649-4e63-b0f7-5b26807d701d/cancel/AutoML_6bacc556-4f44-4c9c-bce2-22e37f1d21f5',\n",
       "  'ClientSdkVersion': '1.31.0',\n",
       "  'snapshotId': '00000000-0000-0000-0000-000000000000',\n",
       "  'SetupRunId': 'AutoML_6bacc556-4f44-4c9c-bce2-22e37f1d21f5_setup',\n",
       "  'SetupRunContainerId': 'dcid.AutoML_6bacc556-4f44-4c9c-bce2-22e37f1d21f5_setup',\n",
       "  'forecasting_target_lags': '[0]',\n",
       "  'forecasting_target_rolling_window_size': '0',\n",
       "  'forecasting_max_horizon': '24',\n",
       "  'forecasting_freq': 'D',\n",
       "  'ProblemInfoJsonString': '{\"dataset_num_categorical\": 0, \"is_sparse\": false, \"subsampling\": false, \"has_extra_col\": true, \"dataset_classes\": 158, \"dataset_features\": 15, \"dataset_samples\": 4780, \"single_frequency_class_detected\": false, \"series_column_count\": 1, \"series_count\": 1, \"series_len_min\": 158, \"series_len_max\": 158, \"series_len_avg\": 158.0, \"series_len_perc_25\": 158.0, \"series_len_perc_50\": 158.0, \"series_len_perc_75\": 158.0}',\n",
       "  'ModelExplainRunId': 'AutoML_6bacc556-4f44-4c9c-bce2-22e37f1d21f5_ModelExplain'},\n",
       " 'inputDatasets': [{'dataset': {'id': '937b718b-a8d2-477d-8f7a-c1bdfc8ffb8f'}, 'consumptionDetails': {'type': 'RunInput', 'inputName': 'training_data', 'mechanism': 'Direct'}}],\n",
       " 'outputDatasets': [],\n",
       " 'logFiles': {},\n",
       " 'submittedBy': 'Chidi Ndego'}"
      ]
     },
     "execution_count": 27,
     "metadata": {},
     "output_type": "execute_result"
    }
   ],
   "source": [
    "remote_run.wait_for_completion()"
   ]
  },
  {
   "cell_type": "code",
   "execution_count": 28,
   "id": "2cd6810e",
   "metadata": {},
   "outputs": [
    {
     "name": "stderr",
     "output_type": "stream",
     "text": [
      "ERROR:fbprophet:Importing plotly failed. Interactive plots will not work.\n"
     ]
    },
    {
     "data": {
      "text/plain": [
       "[('timeseriestransformer',\n",
       "  TimeSeriesTransformer(\n",
       "      pipeline_type=TimeSeriesPipelineType.FULL,\n",
       "      max_horizon=24,\n",
       "      use_stl=None,\n",
       "      seasonality=7,\n",
       "      force_time_index_features=None,\n",
       "      grain_column_names=['_automl_dummy_grain_col'],\n",
       "      drop_column_names=[],\n",
       "      origin_time_colname='origin',\n",
       "      group=None,\n",
       "      country_or_region=None,\n",
       "      freq='D',\n",
       "      time_column_name='Date',\n",
       "      pipeline=Pipeline(\n",
       "          memory=None,\n",
       "          steps=[('make_numeric_na_dummies', MissingDummiesTransformer(\n",
       "              numerical_columns=['Column1', 'MonthlyGAS (scf)', 'MonthlyWATER (bbl)']\n",
       "          )), ('impute_na_numeric_datetime', TimeSeriesImputer(\n",
       "              end=None,\n",
       "              freq='D',\n",
       "              impute_by_horizon=False,\n",
       "              input_column=['Column1', 'MonthlyGAS (scf)', 'MonthlyWATER (bbl)'],\n",
       "              limit=None,\n",
       "              limit_direction='forward',\n",
       "              method=OrderedDict([('ffill', [])]),\n",
       "              option='fillna',\n",
       "              order=None,\n",
       "              origin=None,\n",
       "              value={'Column1': 78.5, 'MonthlyGAS (scf)': 10153062.5, 'MonthlyWATER (bbl)': 74630.85}\n",
       "          )), ('grain_dropper', ShortGrainDropper()), ('restore_dtypes_transform', RestoreDtypesTransformer(\n",
       "              target_column='_automl_target_col',\n",
       "              dtypes={'Column1': dtype('int64'), 'MonthlyGAS (scf)': dtype('float64'), 'MonthlyWATER (bbl)': dtype('float64'), '_automl_target_col': dtype('float64')}\n",
       "          )), ('make_categoricals_numeric', NumericalizeTransformer(\n",
       "              include_columns=set(),\n",
       "              exclude_columns=set(),\n",
       "              categories_by_col={}\n",
       "          )), ('make_time_index_featuers', TimeIndexFeaturizer(\n",
       "              correlation_cutoff=0.99,\n",
       "              country_or_region=None,\n",
       "              datetime_columns=None,\n",
       "              force_feature_list=None,\n",
       "              freq='D',\n",
       "              overwrite_columns=True,\n",
       "              prune_features=True\n",
       "          )), ('make_categoricals_onehot', CategoryBinarizer(\n",
       "              columns=[],\n",
       "              drop_first=False,\n",
       "              dummy_na=False,\n",
       "              encode_all_categoricals=False,\n",
       "              prefix=None,\n",
       "              prefix_sep='_'\n",
       "          ))],\n",
       "          verbose=False\n",
       "      ),\n",
       "      featurization_config=FeaturizationConfig(\n",
       "          blocked_transformers=None,\n",
       "          column_purposes=None,\n",
       "          transformer_params=None,\n",
       "          dataset_language=None,\n",
       "          drop_columns=None\n",
       "      ),\n",
       "      time_index_non_holiday_features=['_automl_year', '_automl_half', '_automl_quarter', '_automl_month', '_automl_day', '_automl_wday', '_automl_qday', '_automl_week'],\n",
       "      lookback_features_removed=False\n",
       "  )),\n",
       " ('prefittedsoftvotingregressor',\n",
       "  PreFittedSoftVotingRegressor(\n",
       "      estimators=[('4', Pipeline(memory=None,\n",
       "               steps=[('average',\n",
       "                       Average(\n",
       "          timeseries_param_dict={'time_column_name': 'Date', 'grain_column_names': None, 'drop_column_names': [], 'overwrite_columns': True, 'dropna': False, 'transform_dictionary': {'min': '_automl_target_col', 'max': '_automl_target_col', 'mean': '_automl_target_col'}, 'max_horizon': 24, 'origin_time_colname': 'origin', 'country_o...': 3, 'short_series_handling': True, 'max_cores_per_iteration': 1, 'feature_lags': None, 'target_aggregation_function': None, 'seasonality': 7, 'use_stl': None, 'freq': <Day>, 'short_series_handling_configuration': 'auto', 'target_lags': [0], 'target_rolling_window_size': 0, 'arimax_raw_columns': ['MonthlyGAS (scf)', 'Column1', 'MonthlyWATER (bbl)', 'Date']}\n",
       "      ))],\n",
       "               verbose=False)), ('9', Pipeline(memory=None,\n",
       "               steps=[('standardscalerwrapper',\n",
       "                       StandardScalerWrapper(\n",
       "          copy=True,\n",
       "          with_mean=True,\n",
       "          with_std=False\n",
       "      )),\n",
       "                      ('decisiontreeregressor',\n",
       "                       DecisionTreeRegressor(ccp_alpha=0.0, criterion='mse',\n",
       "                                             max_depth=None, max_features=None,\n",
       "                                             max_leaf_nodes=None,\n",
       "                                             min_impurity_decrease=0.0,\n",
       "                                             min_impurity_split=None,\n",
       "                                             min_samples_leaf=0.01877954764413522,\n",
       "                                             min_samples_split=0.000753222139758624,\n",
       "                                             min_weight_fraction_leaf=0.0,\n",
       "                                             presort='deprecated', random_state=None,\n",
       "                                             splitter='best'))],\n",
       "               verbose=False)), ('8', Pipeline(memory=None,\n",
       "               steps=[('robustscaler',\n",
       "                       RobustScaler(copy=True, quantile_range=[10, 90],\n",
       "                                    with_centering=True, with_scaling=False)),\n",
       "                      ('decisiontreeregressor',\n",
       "                       DecisionTreeRegressor(ccp_alpha=0.0, criterion='mse',\n",
       "                                             max_depth=None, max_features=0.9,\n",
       "                                             max_leaf_nodes=None,\n",
       "                                             min_impurity_decrease=0.0,\n",
       "                                             min_impurity_split=None,\n",
       "                                             min_samples_leaf=0.007594568292413517,\n",
       "                                             min_samples_split=0.0037087774117744725,\n",
       "                                             min_weight_fraction_leaf=0.0,\n",
       "                                             presort='deprecated', random_state=None,\n",
       "                                             splitter='best'))],\n",
       "               verbose=False)), ('10', Pipeline(memory=None,\n",
       "               steps=[('robustscaler',\n",
       "                       RobustScaler(copy=True, quantile_range=[10, 90],\n",
       "                                    with_centering=False, with_scaling=True)),\n",
       "                      ('decisiontreeregressor',\n",
       "                       DecisionTreeRegressor(ccp_alpha=0.0, criterion='friedman_mse',\n",
       "                                             max_depth=None, max_features=None,\n",
       "                                             max_leaf_nodes=None,\n",
       "                                             min_impurity_decrease=0.0,\n",
       "                                             min_impurity_split=None,\n",
       "                                             min_samples_leaf=0.01066464380934372,\n",
       "                                             min_samples_split=0.012814223889440833,\n",
       "                                             min_weight_fraction_leaf=0.0,\n",
       "                                             presort='deprecated', random_state=None,\n",
       "                                             splitter='best'))],\n",
       "               verbose=False)), ('7', Pipeline(memory=None,\n",
       "               steps=[('robustscaler',\n",
       "                       RobustScaler(copy=True, quantile_range=[10, 90],\n",
       "                                    with_centering=False, with_scaling=True)),\n",
       "                      ('lassolars',\n",
       "                       LassoLars(alpha=0.001, copy_X=True, eps=2.220446049250313e-16,\n",
       "                                 fit_intercept=True, fit_path=True, max_iter=500,\n",
       "                                 normalize=False, positive=False, precompute='auto',\n",
       "                                 verbose=False))],\n",
       "               verbose=False))],\n",
       "      weights=[0.5333333333333333, 0.06666666666666667, 0.26666666666666666, 0.06666666666666667, 0.06666666666666667]\n",
       "  ))]"
      ]
     },
     "execution_count": 28,
     "metadata": {},
     "output_type": "execute_result"
    }
   ],
   "source": [
    "best_run, fitted_model = remote_run.get_output()\n",
    "fitted_model.steps"
   ]
  },
  {
   "cell_type": "code",
   "execution_count": 29,
   "id": "f21b8490",
   "metadata": {},
   "outputs": [
    {
     "data": {
      "text/plain": [
       "['Column1',\n",
       " 'MonthlyGAS (scf)',\n",
       " 'MonthlyWATER (bbl)',\n",
       " '_automl_target_col_WASNULL',\n",
       " 'Column1_WASNULL',\n",
       " 'MonthlyGAS (scf)_WASNULL',\n",
       " 'MonthlyWATER (bbl)_WASNULL',\n",
       " '_automl_year',\n",
       " '_automl_half',\n",
       " '_automl_quarter',\n",
       " '_automl_month',\n",
       " '_automl_day',\n",
       " '_automl_wday',\n",
       " '_automl_qday',\n",
       " '_automl_week']"
      ]
     },
     "execution_count": 29,
     "metadata": {},
     "output_type": "execute_result"
    }
   ],
   "source": [
    "fitted_model.named_steps['timeseriestransformer'].get_engineered_feature_names()"
   ]
  },
  {
   "cell_type": "code",
   "execution_count": 30,
   "id": "048e4d3d",
   "metadata": {},
   "outputs": [
    {
     "data": {
      "text/html": [
       "<div>\n",
       "<style scoped>\n",
       "    .dataframe tbody tr th:only-of-type {\n",
       "        vertical-align: middle;\n",
       "    }\n",
       "\n",
       "    .dataframe tbody tr th {\n",
       "        vertical-align: top;\n",
       "    }\n",
       "\n",
       "    .dataframe thead th {\n",
       "        text-align: right;\n",
       "    }\n",
       "</style>\n",
       "<table border=\"1\" class=\"dataframe\">\n",
       "  <thead>\n",
       "    <tr style=\"text-align: right;\">\n",
       "      <th></th>\n",
       "      <th>RawFeatureName</th>\n",
       "      <th>TypeDetected</th>\n",
       "      <th>Dropped</th>\n",
       "      <th>EngineeredFeatureCount</th>\n",
       "      <th>Transformations</th>\n",
       "    </tr>\n",
       "  </thead>\n",
       "  <tbody>\n",
       "    <tr>\n",
       "      <th>0</th>\n",
       "      <td>Column1</td>\n",
       "      <td>Numeric</td>\n",
       "      <td>No</td>\n",
       "      <td>2</td>\n",
       "      <td>[MedianImputer, ImputationMarker]</td>\n",
       "    </tr>\n",
       "    <tr>\n",
       "      <th>1</th>\n",
       "      <td>MonthlyGAS (scf)</td>\n",
       "      <td>Numeric</td>\n",
       "      <td>No</td>\n",
       "      <td>2</td>\n",
       "      <td>[MedianImputer, ImputationMarker]</td>\n",
       "    </tr>\n",
       "    <tr>\n",
       "      <th>2</th>\n",
       "      <td>MonthlyWATER (bbl)</td>\n",
       "      <td>Numeric</td>\n",
       "      <td>No</td>\n",
       "      <td>2</td>\n",
       "      <td>[MedianImputer, ImputationMarker]</td>\n",
       "    </tr>\n",
       "    <tr>\n",
       "      <th>3</th>\n",
       "      <td>_automl_target_col</td>\n",
       "      <td>Numeric</td>\n",
       "      <td>No</td>\n",
       "      <td>1</td>\n",
       "      <td>[ImputationMarker]</td>\n",
       "    </tr>\n",
       "    <tr>\n",
       "      <th>4</th>\n",
       "      <td>Date</td>\n",
       "      <td>DateTime</td>\n",
       "      <td>No</td>\n",
       "      <td>8</td>\n",
       "      <td>[DateTimeTransformer]</td>\n",
       "    </tr>\n",
       "  </tbody>\n",
       "</table>\n",
       "</div>"
      ],
      "text/plain": [
       "       RawFeatureName TypeDetected Dropped  EngineeredFeatureCount  \\\n",
       "0  Column1             Numeric      No      2                        \n",
       "1  MonthlyGAS (scf)    Numeric      No      2                        \n",
       "2  MonthlyWATER (bbl)  Numeric      No      2                        \n",
       "3  _automl_target_col  Numeric      No      1                        \n",
       "4  Date                DateTime     No      8                        \n",
       "\n",
       "                     Transformations  \n",
       "0  [MedianImputer, ImputationMarker]  \n",
       "1  [MedianImputer, ImputationMarker]  \n",
       "2  [MedianImputer, ImputationMarker]  \n",
       "3  [ImputationMarker]                 \n",
       "4  [DateTimeTransformer]              "
      ]
     },
     "execution_count": 30,
     "metadata": {},
     "output_type": "execute_result"
    }
   ],
   "source": [
    "# Get the featurization summary as a list of JSON\n",
    "featurization_summary = fitted_model.named_steps['timeseriestransformer'].get_featurization_summary()\n",
    "# View the featurization summary as a pandas dataframe\n",
    "pd.DataFrame.from_records(featurization_summary)"
   ]
  },
  {
   "cell_type": "code",
   "execution_count": 31,
   "id": "cd3dc63e",
   "metadata": {},
   "outputs": [],
   "source": [
    "#Forecasting\n",
    "\n",
    "test_experiment = Experiment(ws, experiment_name + \"_inference\")"
   ]
  },
  {
   "cell_type": "code",
   "execution_count": 35,
   "id": "91749a6d",
   "metadata": {},
   "outputs": [],
   "source": [
    "X_test = test.to_pandas_dataframe().reset_index(drop=True)\n",
    "y_test = X_test.pop(target_column_name).values"
   ]
  },
  {
   "cell_type": "code",
   "execution_count": 36,
   "id": "919ddbf5",
   "metadata": {},
   "outputs": [],
   "source": [
    "# The featurized data, aligned to y, will also be returned.\n",
    "# This contains the assumptions that were made in the forecast\n",
    "# and helps align the forecast to the original data\n",
    "y_predictions, X_trans = fitted_model.forecast(X_test)"
   ]
  },
  {
   "cell_type": "code",
   "execution_count": 45,
   "id": "bb0f89c2",
   "metadata": {},
   "outputs": [],
   "source": [
    "# from run_forecast import run_remote_inference\n",
    "# remote_run_infer = run_remote_inference(test_experiment=test_experiment,\n",
    "#                                         compute_target=compute_target,\n",
    "#                                         train_run=best_run,\n",
    "#                                         test_dataset=test,\n",
    "#                                         target_column_name=target_column_name)\n",
    "# remote_run_infer.wait_for_completion(show_output=False)\n",
    "\n",
    "# # download the inference output file to the local machine\n",
    "# remote_run_infer.download_file('outputs/predictions.csv', 'predictions.csv')"
   ]
  },
  {
   "cell_type": "code",
   "execution_count": 46,
   "id": "a3cad8d8",
   "metadata": {},
   "outputs": [],
   "source": [
    "# from forecasting_script.py import align_outputs\n",
    "\n",
    "# df_all = align_outputs(y_predictions, X_trans, X_test, y_test, target_column_name)"
   ]
  },
  {
   "cell_type": "code",
   "execution_count": 69,
   "id": "3b0a195c",
   "metadata": {},
   "outputs": [
    {
     "name": "stdout",
     "output_type": "stream",
     "text": [
      "[Test data scores]\n",
      "\n",
      "explained_variance:   0.108\n",
      "mean_absolute_percentage_error:   89.967\n",
      "median_absolute_error:   35989.671\n",
      "normalized_median_absolute_error:   0.198\n",
      "mean_absolute_error:   34938.764\n",
      "normalized_root_mean_squared_error:   0.219\n",
      "r2_score:   -0.427\n",
      "root_mean_squared_error:   39909.947\n",
      "normalized_root_mean_squared_log_error:   0.156\n",
      "spearman_correlation:   0.273\n",
      "normalized_mean_absolute_error:   0.192\n",
      "root_mean_squared_log_error:   1.895\n"
     ]
    },
    {
     "data": {
      "image/png": "[encoded data removed]",
      "text/plain": [
       "<Figure size 1080x1080 with 1 Axes>"
      ]
     },
     "metadata": {
      "needs_background": "light"
     },
     "output_type": "display_data"
    }
   ],
   "source": [
    "from azureml.automl.core.shared import constants\n",
    "from azureml.automl.runtime.shared.score import scoring\n",
    "from matplotlib import pyplot as plt\n",
    "\n",
    "# use automl metrics module\n",
    "scores = scoring.score_regression(\n",
    "    y_test=y_test,\n",
    "    y_pred=y_predictions,\n",
    "    metrics=list(constants.Metric.SCALAR_REGRESSION_SET))\n",
    "\n",
    "print(\"[Test data scores]\\n\")\n",
    "for key, value in scores.items():    \n",
    "    print('{}:   {:.3f}'.format(key, value))\n",
    "    \n",
    "# Plot outputs\n",
    "%matplotlib inline\n",
    "plt.figure(figsize=(15, 15))\n",
    "train_dat =plt.plot(train.to_pandas_dataframe()['Date'], train.to_pandas_dataframe()['MonthlyOil (bbl)'], color='g')\n",
    "test_pred = plt.plot(test.to_pandas_dataframe()['Date'], y_predictions, color='b')\n",
    "#test_pred = plt.plot(y_test, y_predictions, color='b')\n",
    "test_test = plt.plot(test.to_pandas_dataframe()['Date'], y_test, color='g')\n",
    "plt.legend((test_pred, test_test), ('prediction', 'truth'), loc='upper left', fontsize=8)\n",
    "plt.show()"
   ]
  },
  {
   "cell_type": "code",
   "execution_count": 57,
   "id": "5a1a6262",
   "metadata": {},
   "outputs": [
    {
     "data": {
      "text/plain": [
       "77"
      ]
     },
     "execution_count": 57,
     "metadata": {},
     "output_type": "execute_result"
    }
   ],
   "source": [
    "len(y_predictions)"
   ]
  },
  {
   "cell_type": "code",
   "execution_count": 63,
   "id": "5d242779",
   "metadata": {},
   "outputs": [
    {
     "data": {
      "text/plain": [
       "77"
      ]
     },
     "execution_count": 63,
     "metadata": {},
     "output_type": "execute_result"
    }
   ],
   "source": [
    "len(test.to_pandas_dataframe()['Date'])"
   ]
  },
  {
   "cell_type": "code",
   "execution_count": null,
   "id": "9ac22dd5",
   "metadata": {},
   "outputs": [],
   "source": []
  }
 ],
 "metadata": {
  "kernelspec": {
   "display_name": "Python 3.6 - AzureML",
   "language": "python",
   "name": "python3-azureml"
  },
  "language_info": {
   "codemirror_mode": {
    "name": "ipython",
    "version": 3
   },
   "file_extension": ".py",
   "mimetype": "text/x-python",
   "name": "python",
   "nbconvert_exporter": "python",
   "pygments_lexer": "ipython3",
   "version": "3.6.9"
  }
 },
 "nbformat": 4,
 "nbformat_minor": 5
}
